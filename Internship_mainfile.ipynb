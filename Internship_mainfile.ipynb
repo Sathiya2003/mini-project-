{
 "cells": [
  {
   "cell_type": "markdown",
   "id": "9b3050a7-0b25-4d7b-b722-452927410aa3",
   "metadata": {},
   "source": [
    "## Importing modules"
   ]
  },
  {
   "cell_type": "code",
   "execution_count": 1,
   "id": "62cba3b7-3ca2-4b11-86f8-ac2c67cf27c6",
   "metadata": {},
   "outputs": [],
   "source": [
    "import pandas as pd\n",
    "import numpy as np\n",
    "import matplotlib.pyplot as plt"
   ]
  },
  {
   "cell_type": "markdown",
   "id": "0723a564-01fa-4daf-8aa5-96ab4cccbbb9",
   "metadata": {},
   "source": [
    "### Importing data and preprocessing"
   ]
  },
  {
   "cell_type": "code",
   "execution_count": 2,
   "id": "4f3c40c9-5b88-44bd-b617-519a2c797876",
   "metadata": {},
   "outputs": [
    {
     "data": {
      "text/html": [
       "<div>\n",
       "<style scoped>\n",
       "    .dataframe tbody tr th:only-of-type {\n",
       "        vertical-align: middle;\n",
       "    }\n",
       "\n",
       "    .dataframe tbody tr th {\n",
       "        vertical-align: top;\n",
       "    }\n",
       "\n",
       "    .dataframe thead th {\n",
       "        text-align: right;\n",
       "    }\n",
       "</style>\n",
       "<table border=\"1\" class=\"dataframe\">\n",
       "  <thead>\n",
       "    <tr style=\"text-align: right;\">\n",
       "      <th></th>\n",
       "      <th>ROLL NO</th>\n",
       "      <th>STUDENT NAME</th>\n",
       "      <th>CAT 1</th>\n",
       "      <th>CAT 2</th>\n",
       "      <th>CAT 3</th>\n",
       "      <th>SEMESTER</th>\n",
       "    </tr>\n",
       "  </thead>\n",
       "  <tbody>\n",
       "    <tr>\n",
       "      <th>0</th>\n",
       "      <td>1</td>\n",
       "      <td>ABINESH.G</td>\n",
       "      <td>60</td>\n",
       "      <td>52</td>\n",
       "      <td>54</td>\n",
       "      <td>65</td>\n",
       "    </tr>\n",
       "    <tr>\n",
       "      <th>1</th>\n",
       "      <td>2</td>\n",
       "      <td>ARUNPRASHANTH.E</td>\n",
       "      <td>90</td>\n",
       "      <td>82</td>\n",
       "      <td>90</td>\n",
       "      <td>91</td>\n",
       "    </tr>\n",
       "    <tr>\n",
       "      <th>2</th>\n",
       "      <td>3</td>\n",
       "      <td>ASWIN.I</td>\n",
       "      <td>56</td>\n",
       "      <td>54</td>\n",
       "      <td>76</td>\n",
       "      <td>73</td>\n",
       "    </tr>\n",
       "    <tr>\n",
       "      <th>3</th>\n",
       "      <td>4</td>\n",
       "      <td>BHARANIDHARAN.R</td>\n",
       "      <td>54</td>\n",
       "      <td>52</td>\n",
       "      <td>72</td>\n",
       "      <td>70</td>\n",
       "    </tr>\n",
       "    <tr>\n",
       "      <th>4</th>\n",
       "      <td>5</td>\n",
       "      <td>BHUVANESHWARAN.R</td>\n",
       "      <td>90</td>\n",
       "      <td>76</td>\n",
       "      <td>89</td>\n",
       "      <td>92</td>\n",
       "    </tr>\n",
       "  </tbody>\n",
       "</table>\n",
       "</div>"
      ],
      "text/plain": [
       "   ROLL NO      STUDENT NAME  CAT 1  CAT 2  CAT 3  SEMESTER\n",
       "0        1         ABINESH.G     60     52     54        65\n",
       "1        2   ARUNPRASHANTH.E     90     82     90        91\n",
       "2        3           ASWIN.I     56     54     76        73\n",
       "3        4   BHARANIDHARAN.R     54     52     72        70\n",
       "4        5  BHUVANESHWARAN.R     90     76     89        92"
      ]
     },
     "execution_count": 2,
     "metadata": {},
     "output_type": "execute_result"
    }
   ],
   "source": [
    "df = pd.read_csv('mark.csv')\n",
    "df.head()"
   ]
  },
  {
   "cell_type": "code",
   "execution_count": 3,
   "id": "84265039-bdf0-413a-8668-5f43c55dd4bf",
   "metadata": {},
   "outputs": [
    {
     "data": {
      "text/plain": [
       "(60, 6)"
      ]
     },
     "execution_count": 3,
     "metadata": {},
     "output_type": "execute_result"
    }
   ],
   "source": [
    "df.shape"
   ]
  },
  {
   "cell_type": "code",
   "execution_count": 4,
   "id": "7fd3f486-7c80-44c2-9123-23bc7211ccc3",
   "metadata": {},
   "outputs": [
    {
     "data": {
      "text/plain": [
       "ROLL NO         0\n",
       "STUDENT NAME    0\n",
       "CAT 1           0\n",
       "CAT 2           0\n",
       "CAT 3           0\n",
       "SEMESTER        0\n",
       "dtype: int64"
      ]
     },
     "execution_count": 4,
     "metadata": {},
     "output_type": "execute_result"
    }
   ],
   "source": [
    "df.isnull().sum()"
   ]
  },
  {
   "cell_type": "code",
   "execution_count": 5,
   "id": "cf9a3e5d-425a-4bb4-a1e4-8c4c62189248",
   "metadata": {},
   "outputs": [],
   "source": [
    "df.drop(columns = 'STUDENT NAME',axis=1,inplace=True)"
   ]
  },
  {
   "cell_type": "code",
   "execution_count": 6,
   "id": "e261a608-7826-4ce7-8a5f-31e4161a6a27",
   "metadata": {},
   "outputs": [
    {
     "data": {
      "text/html": [
       "<div>\n",
       "<style scoped>\n",
       "    .dataframe tbody tr th:only-of-type {\n",
       "        vertical-align: middle;\n",
       "    }\n",
       "\n",
       "    .dataframe tbody tr th {\n",
       "        vertical-align: top;\n",
       "    }\n",
       "\n",
       "    .dataframe thead th {\n",
       "        text-align: right;\n",
       "    }\n",
       "</style>\n",
       "<table border=\"1\" class=\"dataframe\">\n",
       "  <thead>\n",
       "    <tr style=\"text-align: right;\">\n",
       "      <th></th>\n",
       "      <th>ROLL NO</th>\n",
       "      <th>CAT 1</th>\n",
       "      <th>CAT 2</th>\n",
       "      <th>CAT 3</th>\n",
       "      <th>SEMESTER</th>\n",
       "    </tr>\n",
       "  </thead>\n",
       "  <tbody>\n",
       "    <tr>\n",
       "      <th>0</th>\n",
       "      <td>1</td>\n",
       "      <td>60</td>\n",
       "      <td>52</td>\n",
       "      <td>54</td>\n",
       "      <td>65</td>\n",
       "    </tr>\n",
       "    <tr>\n",
       "      <th>1</th>\n",
       "      <td>2</td>\n",
       "      <td>90</td>\n",
       "      <td>82</td>\n",
       "      <td>90</td>\n",
       "      <td>91</td>\n",
       "    </tr>\n",
       "    <tr>\n",
       "      <th>2</th>\n",
       "      <td>3</td>\n",
       "      <td>56</td>\n",
       "      <td>54</td>\n",
       "      <td>76</td>\n",
       "      <td>73</td>\n",
       "    </tr>\n",
       "    <tr>\n",
       "      <th>3</th>\n",
       "      <td>4</td>\n",
       "      <td>54</td>\n",
       "      <td>52</td>\n",
       "      <td>72</td>\n",
       "      <td>70</td>\n",
       "    </tr>\n",
       "    <tr>\n",
       "      <th>4</th>\n",
       "      <td>5</td>\n",
       "      <td>90</td>\n",
       "      <td>76</td>\n",
       "      <td>89</td>\n",
       "      <td>92</td>\n",
       "    </tr>\n",
       "  </tbody>\n",
       "</table>\n",
       "</div>"
      ],
      "text/plain": [
       "   ROLL NO  CAT 1  CAT 2  CAT 3  SEMESTER\n",
       "0        1     60     52     54        65\n",
       "1        2     90     82     90        91\n",
       "2        3     56     54     76        73\n",
       "3        4     54     52     72        70\n",
       "4        5     90     76     89        92"
      ]
     },
     "execution_count": 6,
     "metadata": {},
     "output_type": "execute_result"
    }
   ],
   "source": [
    "df.head()"
   ]
  },
  {
   "cell_type": "code",
   "execution_count": 7,
   "id": "0f7b7131-abc3-472b-9713-c7a8d46883d5",
   "metadata": {},
   "outputs": [
    {
     "data": {
      "text/plain": [
       "ROLL NO     int64\n",
       "CAT 1       int64\n",
       "CAT 2       int64\n",
       "CAT 3       int64\n",
       "SEMESTER    int64\n",
       "dtype: object"
      ]
     },
     "execution_count": 7,
     "metadata": {},
     "output_type": "execute_result"
    }
   ],
   "source": [
    "df.dtypes"
   ]
  },
  {
   "cell_type": "code",
   "execution_count": 8,
   "id": "0055889b-8ab4-4b9e-9337-358dc7a2b371",
   "metadata": {},
   "outputs": [
    {
     "data": {
      "text/plain": [
       "ROLL NO    -0.242719\n",
       "CAT 1       0.696742\n",
       "CAT 2       0.558194\n",
       "CAT 3       0.833802\n",
       "SEMESTER    1.000000\n",
       "Name: SEMESTER, dtype: float64"
      ]
     },
     "execution_count": 8,
     "metadata": {},
     "output_type": "execute_result"
    }
   ],
   "source": [
    "df.corr()['SEMESTER']"
   ]
  },
  {
   "cell_type": "code",
   "execution_count": 9,
   "id": "c7bcb46e-4ffb-475a-ad41-15c0eb59fdcd",
   "metadata": {},
   "outputs": [],
   "source": [
    "df.drop(columns = 'ROLL NO',axis=1,inplace=True)"
   ]
  },
  {
   "cell_type": "code",
   "execution_count": 10,
   "id": "2e37bb9c-9cb9-4e2b-bd5e-67547bac60a6",
   "metadata": {},
   "outputs": [],
   "source": [
    "x= df.iloc[:,:-1]\n",
    "y= df.iloc[:,-1]"
   ]
  },
  {
   "cell_type": "code",
   "execution_count": 11,
   "id": "b58d5c05-05e4-462a-a63f-c1488563fa1a",
   "metadata": {},
   "outputs": [
    {
     "data": {
      "text/html": [
       "<div>\n",
       "<style scoped>\n",
       "    .dataframe tbody tr th:only-of-type {\n",
       "        vertical-align: middle;\n",
       "    }\n",
       "\n",
       "    .dataframe tbody tr th {\n",
       "        vertical-align: top;\n",
       "    }\n",
       "\n",
       "    .dataframe thead th {\n",
       "        text-align: right;\n",
       "    }\n",
       "</style>\n",
       "<table border=\"1\" class=\"dataframe\">\n",
       "  <thead>\n",
       "    <tr style=\"text-align: right;\">\n",
       "      <th></th>\n",
       "      <th>CAT 1</th>\n",
       "      <th>CAT 2</th>\n",
       "      <th>CAT 3</th>\n",
       "    </tr>\n",
       "  </thead>\n",
       "  <tbody>\n",
       "    <tr>\n",
       "      <th>0</th>\n",
       "      <td>60</td>\n",
       "      <td>52</td>\n",
       "      <td>54</td>\n",
       "    </tr>\n",
       "    <tr>\n",
       "      <th>1</th>\n",
       "      <td>90</td>\n",
       "      <td>82</td>\n",
       "      <td>90</td>\n",
       "    </tr>\n",
       "    <tr>\n",
       "      <th>2</th>\n",
       "      <td>56</td>\n",
       "      <td>54</td>\n",
       "      <td>76</td>\n",
       "    </tr>\n",
       "    <tr>\n",
       "      <th>3</th>\n",
       "      <td>54</td>\n",
       "      <td>52</td>\n",
       "      <td>72</td>\n",
       "    </tr>\n",
       "    <tr>\n",
       "      <th>4</th>\n",
       "      <td>90</td>\n",
       "      <td>76</td>\n",
       "      <td>89</td>\n",
       "    </tr>\n",
       "  </tbody>\n",
       "</table>\n",
       "</div>"
      ],
      "text/plain": [
       "   CAT 1  CAT 2  CAT 3\n",
       "0     60     52     54\n",
       "1     90     82     90\n",
       "2     56     54     76\n",
       "3     54     52     72\n",
       "4     90     76     89"
      ]
     },
     "execution_count": 11,
     "metadata": {},
     "output_type": "execute_result"
    }
   ],
   "source": [
    "x.head()"
   ]
  },
  {
   "cell_type": "code",
   "execution_count": 12,
   "id": "1fe6bc30-32e2-4cc5-985c-f67d75148253",
   "metadata": {},
   "outputs": [
    {
     "data": {
      "text/plain": [
       "0    65\n",
       "1    91\n",
       "2    73\n",
       "3    70\n",
       "4    92\n",
       "Name: SEMESTER, dtype: int64"
      ]
     },
     "execution_count": 12,
     "metadata": {},
     "output_type": "execute_result"
    }
   ],
   "source": [
    "y.head()"
   ]
  },
  {
   "cell_type": "markdown",
   "id": "413a6e2a-1cc5-4b8c-b026-e5330519977a",
   "metadata": {},
   "source": [
    "### Data splitting"
   ]
  },
  {
   "cell_type": "code",
   "execution_count": 13,
   "id": "e698d9cc-46a6-4547-bf59-d40ff9979ae3",
   "metadata": {},
   "outputs": [],
   "source": [
    "from sklearn.model_selection import train_test_split\n",
    "x_train,x_test,y_train,y_test = train_test_split(x,y,test_size=0.20)"
   ]
  },
  {
   "cell_type": "code",
   "execution_count": 14,
   "id": "4b065bf3-32e4-493c-a162-04f71bba0cc5",
   "metadata": {},
   "outputs": [
    {
     "name": "stdout",
     "output_type": "stream",
     "text": [
      "(48, 3)\n",
      "(48,)\n",
      "(12, 3)\n",
      "(12,)\n"
     ]
    }
   ],
   "source": [
    "print(x_train.shape)\n",
    "print(y_train.shape)\n",
    "print(x_test.shape)\n",
    "print(y_test.shape)"
   ]
  },
  {
   "cell_type": "markdown",
   "id": "f7e1ddf9-e2ef-4c90-a77d-817a391e25ab",
   "metadata": {},
   "source": [
    "### Importing models"
   ]
  },
  {
   "cell_type": "code",
   "execution_count": 15,
   "id": "40357204-5af0-40f9-8a6e-5c70324a0655",
   "metadata": {},
   "outputs": [],
   "source": [
    "from sklearn.linear_model import LinearRegression"
   ]
  },
  {
   "cell_type": "markdown",
   "id": "e1ccca26-85df-4d56-8c6a-422ce2ee3f0a",
   "metadata": {},
   "source": [
    "### Model fitting"
   ]
  },
  {
   "cell_type": "code",
   "execution_count": 16,
   "id": "7341b69f-55fd-4669-86a7-de1197d12781",
   "metadata": {},
   "outputs": [],
   "source": [
    "def apply_model(model,x_train,y_train,x_test,y_test):\n",
    "    model.fit(x_train,y_train)\n",
    "    y_pred = model.predict(x_test)\n",
    "    print(\"Predictions:\\n\",y_pred)\n",
    "    print(\"\\nTraining score:\",model.score(x_train,y_train))\n",
    "    print(\"\\nTesting score:\",model.score(x_test,y_test))"
   ]
  },
  {
   "cell_type": "code",
   "execution_count": 17,
   "id": "cded6118-1682-4653-a0b1-dccd88739625",
   "metadata": {},
   "outputs": [],
   "source": [
    "m1 = LinearRegression()"
   ]
  },
  {
   "cell_type": "code",
   "execution_count": 18,
   "id": "51c5383a-9e0a-48a0-939b-88052486e064",
   "metadata": {},
   "outputs": [
    {
     "name": "stdout",
     "output_type": "stream",
     "text": [
      "Predictions:\n",
      " [84.16649057 31.89960235 34.68056405 52.55795602 75.6363333  30.39142428\n",
      " 66.05322429 50.54551636 29.69115198 70.92035332 91.09000793 47.4998611 ]\n",
      "\n",
      "Training score: 0.7260078770023437\n",
      "\n",
      "Testing score: 0.7311325939733805\n"
     ]
    }
   ],
   "source": [
    "apply_model(m1,x_train,y_train,x_test,y_test)"
   ]
  },
  {
   "cell_type": "markdown",
   "id": "c879cbaa-652e-490a-af48-28f64fd13cd3",
   "metadata": {},
   "source": [
    "### Exporting model"
   ]
  },
  {
   "cell_type": "code",
   "execution_count": 19,
   "id": "a92879c2-5a6c-4986-bd0c-df9d93d75ff6",
   "metadata": {},
   "outputs": [],
   "source": [
    "import pickle"
   ]
  },
  {
   "cell_type": "code",
   "execution_count": 21,
   "id": "a9bf1c53-8544-4eec-b910-a07bd9c92832",
   "metadata": {},
   "outputs": [],
   "source": [
    "with open('mark_pred_model','wb') as f:\n",
    "    pickle.dump(m1,f)"
   ]
  },
  {
   "cell_type": "code",
   "execution_count": null,
   "id": "13173e5d-5743-4316-8468-c0e4b086b9f1",
   "metadata": {},
   "outputs": [],
   "source": []
  }
 ],
 "metadata": {
  "kernelspec": {
   "display_name": "Python 3 (ipykernel)",
   "language": "python",
   "name": "python3"
  },
  "language_info": {
   "codemirror_mode": {
    "name": "ipython",
    "version": 3
   },
   "file_extension": ".py",
   "mimetype": "text/x-python",
   "name": "python",
   "nbconvert_exporter": "python",
   "pygments_lexer": "ipython3",
   "version": "3.9.13"
  }
 },
 "nbformat": 4,
 "nbformat_minor": 5
}
